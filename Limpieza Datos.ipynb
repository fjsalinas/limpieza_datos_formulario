{
 "cells": [
  {
   "cell_type": "code",
   "execution_count": 2,
   "metadata": {},
   "outputs": [],
   "source": [
    "import pandas as pd"
   ]
  },
  {
   "cell_type": "code",
   "execution_count": 5,
   "metadata": {},
   "outputs": [
    {
     "data": {
      "text/html": [
       "<div>\n",
       "<style scoped>\n",
       "    .dataframe tbody tr th:only-of-type {\n",
       "        vertical-align: middle;\n",
       "    }\n",
       "\n",
       "    .dataframe tbody tr th {\n",
       "        vertical-align: top;\n",
       "    }\n",
       "\n",
       "    .dataframe thead th {\n",
       "        text-align: right;\n",
       "    }\n",
       "</style>\n",
       "<table border=\"1\" class=\"dataframe\">\n",
       "  <thead>\n",
       "    <tr style=\"text-align: right;\">\n",
       "      <th></th>\n",
       "      <th>rut</th>\n",
       "      <th>telefono</th>\n",
       "      <th>email</th>\n",
       "      <th>producto</th>\n",
       "      <th>comentario</th>\n",
       "    </tr>\n",
       "  </thead>\n",
       "  <tbody>\n",
       "    <tr>\n",
       "      <th>0</th>\n",
       "      <td>46678749-5</td>\n",
       "      <td>+56936678642</td>\n",
       "      <td>kbkbckjfb@hotmail.com</td>\n",
       "      <td>Crédito de Consumo</td>\n",
       "      <td>RT @Sophistidomme: Chúpate esa, Einstein.</td>\n",
       "    </tr>\n",
       "    <tr>\n",
       "      <th>1</th>\n",
       "      <td>18900633-1</td>\n",
       "      <td>+56953270633</td>\n",
       "      <td>hdjlfjbch@gmail.com</td>\n",
       "      <td>Crédito Hipotecario</td>\n",
       "      <td>RT @JaimeVelasco01: Alberto Garzón, Ministro d...</td>\n",
       "    </tr>\n",
       "    <tr>\n",
       "      <th>2</th>\n",
       "      <td>82199353-9</td>\n",
       "      <td>+56912785074</td>\n",
       "      <td>kidjjkabj@gmail.com</td>\n",
       "      <td>Crédito Hipotecario</td>\n",
       "      <td>RT @alfonso_ussia: He escrito que Garzón es mi...</td>\n",
       "    </tr>\n",
       "    <tr>\n",
       "      <th>3</th>\n",
       "      <td>15184920-k</td>\n",
       "      <td>+56959849869</td>\n",
       "      <td>hhibcdfgd@gmail.com</td>\n",
       "      <td>Crédito Hipotecario</td>\n",
       "      <td>RT @bosco_martinez: @DoctorPurto @JamesHamilto...</td>\n",
       "    </tr>\n",
       "    <tr>\n",
       "      <th>4</th>\n",
       "      <td>95553106-0</td>\n",
       "      <td>+56996269978</td>\n",
       "      <td>jieicbbka@hotmail.com</td>\n",
       "      <td>Crédito de Consumo y Crédito Hipotecario</td>\n",
       "      <td>RT @Bra_Haruhi: Gobierno chino: Vamos a prohib...</td>\n",
       "    </tr>\n",
       "  </tbody>\n",
       "</table>\n",
       "</div>"
      ],
      "text/plain": [
       "          rut      telefono                  email  \\\n",
       "0  46678749-5  +56936678642  kbkbckjfb@hotmail.com   \n",
       "1  18900633-1  +56953270633    hdjlfjbch@gmail.com   \n",
       "2  82199353-9  +56912785074    kidjjkabj@gmail.com   \n",
       "3  15184920-k  +56959849869    hhibcdfgd@gmail.com   \n",
       "4  95553106-0  +56996269978  jieicbbka@hotmail.com   \n",
       "\n",
       "                                   producto  \\\n",
       "0                        Crédito de Consumo   \n",
       "1                       Crédito Hipotecario   \n",
       "2                       Crédito Hipotecario   \n",
       "3                       Crédito Hipotecario   \n",
       "4  Crédito de Consumo y Crédito Hipotecario   \n",
       "\n",
       "                                          comentario  \n",
       "0          RT @Sophistidomme: Chúpate esa, Einstein.  \n",
       "1  RT @JaimeVelasco01: Alberto Garzón, Ministro d...  \n",
       "2  RT @alfonso_ussia: He escrito que Garzón es mi...  \n",
       "3  RT @bosco_martinez: @DoctorPurto @JamesHamilto...  \n",
       "4  RT @Bra_Haruhi: Gobierno chino: Vamos a prohib...  "
      ]
     },
     "execution_count": 5,
     "metadata": {},
     "output_type": "execute_result"
    }
   ],
   "source": [
    "data = pd.read_pickle('data.pkl')\n",
    "data.head()"
   ]
  },
  {
   "cell_type": "code",
   "execution_count": 10,
   "metadata": {},
   "outputs": [
    {
     "data": {
      "text/plain": [
       "'RT @bosco_martinez: @DoctorPurto @JamesHamiltonCL Cuando el modelo neoliberal excluye al 50% pagando ingreso mínimo. \\n\\nCuando los grupos ec…'"
      ]
     },
     "execution_count": 10,
     "metadata": {},
     "output_type": "execute_result"
    }
   ],
   "source": [
    "data['comentario'][3]"
   ]
  },
  {
   "cell_type": "code",
   "execution_count": null,
   "metadata": {},
   "outputs": [],
   "source": []
  }
 ],
 "metadata": {
  "kernelspec": {
   "display_name": "Python 3",
   "language": "python",
   "name": "python3"
  },
  "language_info": {
   "codemirror_mode": {
    "name": "ipython",
    "version": 3
   },
   "file_extension": ".py",
   "mimetype": "text/x-python",
   "name": "python",
   "nbconvert_exporter": "python",
   "pygments_lexer": "ipython3",
   "version": "3.7.3"
  }
 },
 "nbformat": 4,
 "nbformat_minor": 4
}
